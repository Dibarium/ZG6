{
 "cells": [
  {
   "cell_type": "markdown",
   "id": "3ccbacb5",
   "metadata": {},
   "source": [
    "# DSP Algorithm Prototyping\n",
    "\n",
    "The objective of this notebook is to test your C-based VAD and DOA algorithm using Python. Instead of using the C language directly, the use of Python code can simplify:\n",
    "\n",
    "* the generation of audio signals, \n",
    "* the import/export of audio file,\n",
    "* the debugging of your C code (plotting, logging, ...)"
   ]
  },
  {
   "cell_type": "code",
   "execution_count": 1,
   "id": "37b2084a",
   "metadata": {},
   "outputs": [],
   "source": [
    "import ctypes\n",
    "import numpy as np\n",
    "import matplotlib.pyplot as plt\n",
    "from numpy.ctypeslib import ndpointer\n",
    "from scipy.io import wavfile"
   ]
  },
  {
   "cell_type": "markdown",
   "id": "56d646f0",
   "metadata": {},
   "source": [
    "## Signal Model\n",
    "\n",
    "The first objective is to synthesize a stereo random signal using Python. The considered signal is described by the following statistical model\n",
    "\n",
    "\\begin{align}\n",
    "x_1[n] &= b[n]\\\\\n",
    "x_2[n] &= b[n+\\tau]\n",
    "\\end{align}\n",
    "\n",
    "where \n",
    "\n",
    "* $b[n]\\sim \\mathcal{N}(0, \\sigma^2)$ is a Gaussian noise with zero mean and variance $\\sigma^2$. The noise is assumed white i.e. \n",
    "\n",
    "$$E[b[n]b[m]]=\\sigma^2 \\delta[n-m]=\\left\\{\\begin{array}{cc} \\sigma^2 &\\text{ if }n=m\\\\\n",
    "0 & \\text{elsewhere}\\end{array}\\right.$$\n",
    "\n",
    "* $\\tau \\in \\mathbb{N}$ is the time delay between the left signal $x_1[n]$ and the right signal $x_2[n]$. \n",
    "\n",
    "##### Question [signal model]\n",
    "\n",
    "* Create the stereo random signal model by implementing the `create_signal` function"
   ]
  },
  {
   "cell_type": "code",
   "execution_count": 2,
   "id": "d2f90ae5",
   "metadata": {},
   "outputs": [],
   "source": [
    "def create_signal(tau, sigma, N, type = np.int16):\n",
    "    \"\"\"Create a stereo random signal using the white Gaussian noise model and return it using the int16 format\"\"\"\n",
    "    X = np.zeros((2, N))\n",
    "    # implement the signal model\n",
    "\n",
    "    x1=np.random.normal(0,sigma,N)\n",
    "    x2=np.roll(x1,tau)\n",
    "    X=np.vstack((x1,x2))\n",
    "    \n",
    "    X = X.astype(type) \n",
    "    return X"
   ]
  },
  {
   "cell_type": "markdown",
   "id": "878b374d",
   "metadata": {},
   "source": [
    "The following code calls the `create_signal` and saves it in tne `wav` folder."
   ]
  },
  {
   "cell_type": "code",
   "execution_count": 3,
   "id": "f043385f",
   "metadata": {},
   "outputs": [],
   "source": [
    "tau = 3    # samples\n",
    "sigma = 2000\n",
    "Fs = 16000  # Hz\n",
    "N = 1600    # nombre d'échantillons\n",
    "filename = \"wav/noise.wav\"\n",
    "\n",
    "# Create the \"wav\" folder if it doesn't exist\n",
    "#os.makedirs(os.path.dirname(filename), exist_ok=True)\n",
    "\n",
    "X = create_signal(tau, sigma, N)\n",
    "wavfile.write(filename, Fs, np.transpose(X))"
   ]
  },
  {
   "cell_type": "markdown",
   "id": "1f98ed2d",
   "metadata": {},
   "source": [
    "## Python / C Interface\n",
    "\n",
    "When your final objective is to implement a code in a uP, it is usually more direct to implement your algorithm using the C language. In this section, we show how to test your C code using Python. \n",
    "\n",
    "### DSP library\n",
    "\n",
    "All the C codes are implemented in the `dsp.c` library. The `dsp` C library contains the definition of three functions :\n",
    "\n",
    "* `print_pcm`: display the content of an audio signal,\n",
    "* `compute_energy`: compute the energy of an audio signal, \n",
    "* `compute_xcorr`: compute the cross correlation of an stereo audio signal\n",
    "\n",
    "These functions takes as inputs the the stereo audio signal encoded as a 1D array. The structure of the 1D array is provided below : \n",
    "\n",
    "\n",
    "| x_1[0] | x_2[0] | x_1[1] | x_2[1] | x_1[2] | x_2[2] | ... | x_1[M-1] | x_2[M-1] |\n",
    "|---|---|---|---|---|---|---|---|---|\n",
    "\n",
    "\n",
    "where the samples `x_l[n]` are encoded as `uint16_t` data.\n",
    "\n",
    "The following Python function shows how to load a stereo wav file and format it as a 1D array of `uint16_t` data."
   ]
  },
  {
   "cell_type": "code",
   "execution_count": 4,
   "id": "19f8f468",
   "metadata": {},
   "outputs": [],
   "source": [
    "def load_audio2pcm(filename):\n",
    "    \"\"\"This function load a stereo audio file and convert the signal to a 1D signal with uint16 data type \"\"\"\n",
    "    Fs, X = wavfile.read(filename)\n",
    "    x = np.ravel(X, order='C')  # convert 2D signal to 1D signal\n",
    "    x = x.astype(np.uint16)  # convert to uint16 data\n",
    "    return Fs, x"
   ]
  },
  {
   "cell_type": "markdown",
   "id": "267b32d2",
   "metadata": {},
   "source": [
    "### Load the C Library\n",
    "\n",
    "The C library can be compiled using the following command :\n",
    "\n",
    "```\n",
    "gcc -fPIC -shared dsp.c -o dsp.so\n",
    "```\n",
    "\n",
    "The following command should create the `dsp.so` file. The `dsp.so` file can be imported in a Python script using the `LoadLibrary` function."
   ]
  },
  {
   "cell_type": "code",
   "execution_count": 5,
   "id": "d6ab909d",
   "metadata": {},
   "outputs": [],
   "source": [
    "# import C function\n",
    "dsp = ctypes.cdll.LoadLibrary(\"./dsp.so\")\n",
    "\n",
    "## load functions\n",
    "print_pcm = dsp.print_pcm\n",
    "print_pcm.restype = None\n",
    "print_pcm.argtypes = [ndpointer(ctypes.c_uint16, flags=\"C_CONTIGUOUS\"), ctypes.c_size_t]\n",
    "\n",
    "compute_energy = dsp.compute_energy\n",
    "compute_energy.restype = ctypes.c_float\n",
    "compute_energy.argtypes = [ndpointer(ctypes.c_uint16, flags=\"C_CONTIGUOUS\"), ctypes.c_size_t]\n",
    "\n",
    "compute_xcorr = dsp.compute_xcorr\n",
    "compute_xcorr.restype = ctypes.c_float\n",
    "compute_xcorr.argtypes = [ndpointer(ctypes.c_uint16, flags=\"C_CONTIGUOUS\"), ctypes.c_size_t, ndpointer(ctypes.c_float, flags=\"C_CONTIGUOUS\"), ctypes.c_size_t]"
   ]
  },
  {
   "cell_type": "markdown",
   "id": "5be6daac",
   "metadata": {},
   "source": [
    "### Test your C Code\n",
    "\n",
    "The following script loads a stereo sound file using the `load_audio2pcm` python code and prints the content of the audio signal using the `print_pcm` C function."
   ]
  },
  {
   "cell_type": "code",
   "execution_count": 6,
   "id": "b90a542e",
   "metadata": {},
   "outputs": [
    {
     "name": "stdout",
     "output_type": "stream",
     "text": [
      "* sample0: x=[2057,-2762]\n",
      "* sample1: x=[-2251,-275]\n",
      "* sample2: x=[-4456,-1198]\n",
      "* sample3: x=[-1463,2057]\n",
      "* sample4: x=[3228,-2251]\n"
     ]
    }
   ],
   "source": [
    "filename = \"wav/noise.wav\"\n",
    "Fs, x = load_audio2pcm(filename)\n",
    "#E = compute_energy()\n",
    "print_pcm(x, 10)\n"
   ]
  },
  {
   "cell_type": "markdown",
   "id": "a57fe778",
   "metadata": {},
   "source": [
    "## VAD Detection\n",
    "\n",
    "A simple VAD detector is based on the signal energy criterion :\n",
    "\n",
    "$$\\widehat{\\epsilon}_l^2 = \\frac{1}{N} \\sum_{n=0}^{N-1} x_l^2[n]$$\n",
    "\n",
    "### Theoretical Analysis\n",
    "\n",
    "For the considered signal model, the theoretical value is equal to : \n",
    "\n",
    "$$\\epsilon_l^2 = \\frac{1}{N}\\sum_{n=0}^{N-1} E[x_l^2[n]] = \\frac{1}{N}\\sum_{n=0}^{N-1} \\sigma^2 = \\sigma^2 $$\n"
   ]
  },
  {
   "cell_type": "code",
   "execution_count": 7,
   "id": "08071453",
   "metadata": {},
   "outputs": [
    {
     "name": "stdout",
     "output_type": "stream",
     "text": [
      "theoretical value: energy=4000000 joules\n"
     ]
    }
   ],
   "source": [
    "energy_theo = sigma**2\n",
    "print(\"theoretical value: energy={} joules\".format(energy_theo))"
   ]
  },
  {
   "cell_type": "markdown",
   "id": "52d979f7",
   "metadata": {},
   "source": [
    "### Implementation of the C function\n",
    "\n",
    "##### Question [compute_energy]\n",
    "\n",
    "* In the `dsp.c` file, implement the C function `compute_energy`,\n",
    "* compare the estimated energy with its theoretical value. "
   ]
  },
  {
   "cell_type": "code",
   "execution_count": 8,
   "id": "164c6166",
   "metadata": {},
   "outputs": [
    {
     "name": "stdout",
     "output_type": "stream",
     "text": [
      "estimated value: energy=4214976.5 joules\n"
     ]
    }
   ],
   "source": [
    "energy_est = compute_energy(x, len(x))\n",
    "print(\"estimated value: energy={} joules\".format(energy_est))"
   ]
  },
  {
   "cell_type": "markdown",
   "id": "399e04b3",
   "metadata": {},
   "source": [
    "## DOA Estimation\n",
    "\n",
    "A simple DOA estimator is based on the maximum of the cross correlation. The cross correlation is defined as :\n",
    "\n",
    "$$\\widehat{R}[m] = \\frac{1}{N} \\sum_{n=0}^{N-1}x_1[n]x_2[n+m]$$\n",
    "\n",
    "### Theoretical Analysis\n",
    "\n",
    "For the considered signal model, the cross correlation is theoretically equal to \n",
    "\n",
    "\\begin{align}\n",
    "R[m] = \\frac{1}{N} \\sum_{n=0}^{N-1}E[x_1[n]x_2[n+m]]= \\left\\{\\begin{array}{cc}\n",
    "\\sigma^2 &\\text{ if }m=\\tau\\\\\n",
    "0 &\\text{elsewhere}\n",
    "\\end{array}\\right .\n",
    "\\end{align}"
   ]
  },
  {
   "cell_type": "code",
   "execution_count": 9,
   "id": "a3f108e1",
   "metadata": {},
   "outputs": [
    {
     "data": {
      "text/plain": [
       "Text(0.5, 0, 'tau [sample]')"
      ]
     },
     "execution_count": 9,
     "metadata": {},
     "output_type": "execute_result"
    },
    {
     "data": {
      "image/png": "[encoded data removed]",
      "text/plain": [
       "<Figure size 432x288 with 1 Axes>"
      ]
     },
     "metadata": {
      "needs_background": "light"
     },
     "output_type": "display_data"
    }
   ],
   "source": [
    "tau_max = 10\n",
    "N_R = 2*tau_max+1\n",
    "tau_vect = np.arange(-tau_max, tau_max+1)\n",
    "R_theo = np.zeros(N_R)\n",
    "R_theo[tau_max+tau] = sigma**2\n",
    "\n",
    "plt.stem(tau_vect, R_theo)\n",
    "plt.xlabel(\"tau [sample]\")"
   ]
  },
  {
   "cell_type": "markdown",
   "id": "bca41b9f",
   "metadata": {},
   "source": [
    "### Implementation of the C function\n",
    "\n",
    "##### Question [compute_xcorr]\n",
    "\n",
    "* In the `dsp.c` file, implement the C function `compute_xcorr`,\n",
    "* compare the estimated correlation with its theoretical values."
   ]
  },
  {
   "cell_type": "code",
   "execution_count": 10,
   "id": "c899ee2b",
   "metadata": {},
   "outputs": [
    {
     "name": "stdout",
     "output_type": "stream",
     "text": [
      "[ 2.5395795e+04  1.0277822e+05 -3.0393945e+04 -8.8081867e+04\n",
      "  2.2665932e+04  8.9738373e+02 -1.7909722e+05 -1.4635408e+05\n",
      " -5.6513843e+03 -1.1346317e+05  6.5630164e+04 -1.6631000e+04\n",
      "  1.4606512e+05  4.2149835e+06  1.4606516e+05 -1.6631006e+04\n",
      "  6.5630148e+04 -1.1346318e+05 -5.6513667e+03 -1.4635408e+05\n",
      " -1.7909742e+05]\n"
     ]
    },
    {
     "data": {
      "text/plain": [
       "<StemContainer object of 3 artists>"
      ]
     },
     "execution_count": 10,
     "metadata": {},
     "output_type": "execute_result"
    },
    {
     "data": {
      "image/png": "[encoded data removed]",
      "text/plain": [
       "<Figure size 432x288 with 1 Axes>"
      ]
     },
     "metadata": {
      "needs_background": "light"
     },
     "output_type": "display_data"
    }
   ],
   "source": [
    "R_est = np.zeros(N_R, dtype=np.float32)\n",
    "compute_xcorr(x, len(x), R_est, N_R)\n",
    "print(R_est)\n",
    "plt.stem(tau_vect,R_est)"
   ]
  },
  {
   "cell_type": "code",
   "execution_count": null,
   "id": "6d6be55e-6fcc-4fce-9fe9-a87b2d14277a",
   "metadata": {},
   "outputs": [],
   "source": []
  }
 ],
 "metadata": {
  "kernelspec": {
   "display_name": "Python 3 (ipykernel)",
   "language": "python",
   "name": "python3"
  },
  "language_info": {
   "codemirror_mode": {
    "name": "ipython",
    "version": 3
   },
   "file_extension": ".py",
   "mimetype": "text/x-python",
   "name": "python",
   "nbconvert_exporter": "python",
   "pygments_lexer": "ipython3",
   "version": "3.9.13"
  },
  "vscode": {
   "interpreter": {
    "hash": "40d3a090f54c6569ab1632332b64b2c03c39dcf918b08424e98f38b5ae0af88f"
   }
  }
 },
 "nbformat": 4,
 "nbformat_minor": 5
}
